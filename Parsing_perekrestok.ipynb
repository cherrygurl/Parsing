{
 "cells": [
  {
   "cell_type": "markdown",
   "id": "d77a7076",
   "metadata": {},
   "source": [
    "## Парсинг товаров с сайта Перекресток. \n"
   ]
  },
  {
   "cell_type": "markdown",
   "id": "a9833186",
   "metadata": {},
   "source": [
    "Парсинг интернет магазина Перекресток с помощью библиотеки BeautifulSoup"
   ]
  },
  {
   "cell_type": "code",
   "execution_count": 1,
   "id": "642e4ef0",
   "metadata": {
    "scrolled": true
   },
   "outputs": [
    {
     "name": "stdout",
     "output_type": "stream",
     "text": [
      "Enabling notebook extension jupyter-js-widgets/extension...\r\n",
      "      - Validating: \u001b[32mOK\u001b[0m\r\n"
     ]
    }
   ],
   "source": [
    "!pip install -q tqdm\n",
    "!pip install -q ipywidgets\n",
    "!jupyter nbextension enable --py widgetsnbextension"
   ]
  },
  {
   "cell_type": "markdown",
   "id": "66990573",
   "metadata": {},
   "source": [
    "Импортируем нужные библиотеки"
   ]
  },
  {
   "cell_type": "code",
   "execution_count": 2,
   "id": "cca1d331",
   "metadata": {},
   "outputs": [],
   "source": [
    "import pandas as pd \n",
    "import requests  # импорт библиотеки для запросов к серверу\n",
    "from bs4 import (\n",
    "    BeautifulSoup,\n",
    ")  # импорт библиотеки для автоматического парсинга странички\n",
    "import time\n",
    "import os\n",
    "from tqdm.notebook import tqdm, trange\n",
    "import numpy as np\n",
    "import matplotlib.pyplot as plt\n",
    "import seaborn as sns\n",
    "\n",
    "# настройки отображения\n",
    "\n",
    "pd.options.display.float_format = '{:,.2f}'.format\n",
    "pd.set_option('display.max_rows', None)\n",
    "pd.set_option(\"max_colwidth\", 200)"
   ]
  },
  {
   "cell_type": "code",
   "execution_count": 3,
   "id": "0070c344",
   "metadata": {},
   "outputs": [],
   "source": [
    "# функции для фильтрации\n",
    "\n",
    "def quantity_filter(row):\n",
    "    if row and len(row)>0:\n",
    "        a = row.split('₽/')\n",
    "        if len(a)>1:\n",
    "            return a[1]\n",
    "    return ''\n",
    "\n",
    "def price_filter(row):\n",
    "    if row and len(row)>0:\n",
    "        a = row.split('₽')\n",
    "        if len(a)>=1:\n",
    "            return a[0].strip().replace(' ', '').replace(',', '.')\n",
    "    return np.nan"
   ]
  },
  {
   "cell_type": "code",
   "execution_count": 4,
   "id": "b41a4590",
   "metadata": {
    "scrolled": true
   },
   "outputs": [
    {
     "data": {
      "application/vnd.jupyter.widget-view+json": {
       "model_id": "967dc2286e2646a8a3a0961d3bead76b",
       "version_major": 2,
       "version_minor": 0
      },
      "text/plain": [
       "  0%|          | 0/1 [00:00<?, ?it/s]"
      ]
     },
     "metadata": {},
     "output_type": "display_data"
    },
    {
     "data": {
      "application/vnd.jupyter.widget-view+json": {
       "model_id": "0ebbe9a924a94db9afce78ba0c0289a5",
       "version_major": 2,
       "version_minor": 0
      },
      "text/plain": [
       "0it [00:00, ?it/s]"
      ]
     },
     "metadata": {},
     "output_type": "display_data"
    }
   ],
   "source": [
    "# количество объектов на страницу\n",
    "items_per_page = 48\n",
    "\n",
    "# номер категории начала (категория \"Здоровье\")\n",
    "pages_start = 64 \n",
    "\n",
    "# номер категори конца, не включая\n",
    "pages_end = 65 \n",
    "\n",
    "# переменные\n",
    "all_products = []\n",
    "all_price = []\n",
    "all_exists = []\n",
    "\n",
    "csv_file = 'products'+'_'+str(pages_start)+'.csv'\n",
    "csv_file_exists = os.path.exists(csv_file)\n",
    "\n",
    "\n",
    "# цикл для парсинга\n",
    "if csv_file_exists:\n",
    "    products = pd.read_csv(csv_file)\n",
    "\n",
    "else:\n",
    "    category = 'unknown' # Название категории\n",
    "    \n",
    "    for i in trange(pages_start, pages_end):\n",
    "        j = 1\n",
    "        pbar = tqdm()\n",
    "\n",
    "        URL = 'https://www.perekrestok.ru/cat/c/'+str(i)\n",
    "        while True:\n",
    "            req = requests.get(URL)  # GET-запрос\n",
    "            if req.status_code != 200:\n",
    "                break\n",
    "\n",
    "            soup = BeautifulSoup(req.text, 'lxml')\n",
    "            category = soup.find('h1', attrs={'class' : 'page-header__title'}).text \n",
    "            \n",
    "            name_products = []  # Список, в котором хранятся названия товаров\n",
    "            for row in soup.find_all(\n",
    "                'div', attrs={'class': 'product-card__title'}\n",
    "            ):\n",
    "                name_products.append(row.text)\n",
    "\n",
    "            price = []  # Cписок, в котором хранятся цены на товар\n",
    "            for row in soup.find_all(\n",
    "                'div', attrs={'class': 'product-card__pricing'}\n",
    "            ):\n",
    "                price.append(row.text)\n",
    "\n",
    "            name_exists = []\n",
    "            for row in soup.find_all(\n",
    "                'div', attrs={'class': 'product-card__balance-badge'} # Наличие\n",
    "            ):\n",
    "                name_exists.append(row.text)\n",
    "\n",
    "            all_products.append(name_products)\n",
    "            all_price.append(price)\n",
    "            all_exists.append(name_exists)\n",
    "\n",
    "            if len(name_products) < items_per_page:\n",
    "                break\n",
    "                \n",
    "            if len(name_products) > items_per_page:\n",
    "                break\n",
    "            \n",
    "            j += 1\n",
    "            pbar.update(1)\n",
    "            URL = 'https://www.perekrestok.ru/cat/c/'+str(i)+'/?page='+str(j)\n",
    "\n",
    "            if j % 50 == 0: # Пауза 3 сек каждые 50 страниц\n",
    "                time.sleep(3) \n",
    "        \n",
    "    \n",
    "    products_data = {} # создаем словарь\n",
    "\n",
    "    for i in range(len(all_products)):\n",
    "        for j in range(len(all_products[i])):\n",
    "            products_data[str(i+1)+'.'+str(j+1)] = [all_products[i][j], all_price[i][j], all_exists[i][j], category]\n",
    "    \n",
    "    # преобразуем в датафрейм\n",
    "    products = pd.DataFrame.from_dict(products_data, columns = ['name','price', 'exists', 'category'], orient = 'index')\n",
    "    \n",
    "    # выносим столбцы с единицей измерения и ценой\n",
    "    products['quantity'] = products['price'].apply(lambda x: quantity_filter(x))\n",
    "    products['price'] = products['price'].apply(lambda x: price_filter(x))\n",
    "    \n",
    "    # удаляем строки, в которых цена и единица измерения не указаны, удаляем дубликаты\n",
    "    products = products.dropna(subset=['price', 'quantity']).drop_duplicates(ignore_index=True)\n",
    "    \n",
    "    #преобразуем в csv и сохраняем \n",
    "    products.to_csv(csv_file, index = False)"
   ]
  },
  {
   "cell_type": "code",
   "execution_count": 5,
   "id": "943aff9c",
   "metadata": {
    "scrolled": false
   },
   "outputs": [
    {
     "name": "stdout",
     "output_type": "stream",
     "text": [
      "<class 'pandas.core.frame.DataFrame'>\n",
      "RangeIndex: 927 entries, 0 to 926\n",
      "Data columns (total 5 columns):\n",
      " #   Column    Non-Null Count  Dtype \n",
      "---  ------    --------------  ----- \n",
      " 0   name      927 non-null    object\n",
      " 1   price     927 non-null    object\n",
      " 2   exists    927 non-null    object\n",
      " 3   category  927 non-null    object\n",
      " 4   quantity  927 non-null    object\n",
      "dtypes: object(5)\n",
      "memory usage: 36.3+ KB\n"
     ]
    }
   ],
   "source": [
    "# посмотрим общую информацию\n",
    "\n",
    "products.info()"
   ]
  },
  {
   "cell_type": "code",
   "execution_count": 6,
   "id": "09b37581",
   "metadata": {
    "scrolled": false
   },
   "outputs": [
    {
     "data": {
      "text/html": [
       "<div>\n",
       "<style scoped>\n",
       "    .dataframe tbody tr th:only-of-type {\n",
       "        vertical-align: middle;\n",
       "    }\n",
       "\n",
       "    .dataframe tbody tr th {\n",
       "        vertical-align: top;\n",
       "    }\n",
       "\n",
       "    .dataframe thead th {\n",
       "        text-align: right;\n",
       "    }\n",
       "</style>\n",
       "<table border=\"1\" class=\"dataframe\">\n",
       "  <thead>\n",
       "    <tr style=\"text-align: right;\">\n",
       "      <th></th>\n",
       "      <th>name</th>\n",
       "      <th>price</th>\n",
       "      <th>exists</th>\n",
       "      <th>category</th>\n",
       "      <th>quantity</th>\n",
       "    </tr>\n",
       "  </thead>\n",
       "  <tbody>\n",
       "    <tr>\n",
       "      <th>0</th>\n",
       "      <td>Печенье Зелёная Линия Воздушные колечки заварное, 100г</td>\n",
       "      <td>49.99</td>\n",
       "      <td>В наличии много</td>\n",
       "      <td>Здоровье</td>\n",
       "      <td>шт</td>\n",
       "    </tr>\n",
       "    <tr>\n",
       "      <th>1</th>\n",
       "      <td>Батончик глазированный Snaq Fabriq арахис карамель, 50г</td>\n",
       "      <td>69.99</td>\n",
       "      <td>В наличии много</td>\n",
       "      <td>Здоровье</td>\n",
       "      <td>шт</td>\n",
       "    </tr>\n",
       "    <tr>\n",
       "      <th>2</th>\n",
       "      <td>Напиток овсяный Nemoloko шоколадный 3.2%, 1л</td>\n",
       "      <td>129.99</td>\n",
       "      <td>В наличии много</td>\n",
       "      <td>Здоровье</td>\n",
       "      <td>шт</td>\n",
       "    </tr>\n",
       "    <tr>\n",
       "      <th>3</th>\n",
       "      <td>Лапша Imperial Cuisine гречневая соба без пучков, 400г</td>\n",
       "      <td>39.99</td>\n",
       "      <td>В наличии много</td>\n",
       "      <td>Здоровье</td>\n",
       "      <td>шт</td>\n",
       "    </tr>\n",
       "    <tr>\n",
       "      <th>4</th>\n",
       "      <td>Мука Garnec рисовая без глютена, 500г</td>\n",
       "      <td>59.99</td>\n",
       "      <td>В наличии много</td>\n",
       "      <td>Здоровье</td>\n",
       "      <td>шт</td>\n",
       "    </tr>\n",
       "  </tbody>\n",
       "</table>\n",
       "</div>"
      ],
      "text/plain": [
       "                                                      name   price  \\\n",
       "0   Печенье Зелёная Линия Воздушные колечки заварное, 100г   49.99   \n",
       "1  Батончик глазированный Snaq Fabriq арахис карамель, 50г   69.99   \n",
       "2             Напиток овсяный Nemoloko шоколадный 3.2%, 1л  129.99   \n",
       "3   Лапша Imperial Cuisine гречневая соба без пучков, 400г   39.99   \n",
       "4                    Мука Garnec рисовая без глютена, 500г   59.99   \n",
       "\n",
       "            exists  category quantity  \n",
       "0  В наличии много  Здоровье       шт  \n",
       "1  В наличии много  Здоровье       шт  \n",
       "2  В наличии много  Здоровье       шт  \n",
       "3  В наличии много  Здоровье       шт  \n",
       "4  В наличии много  Здоровье       шт  "
      ]
     },
     "execution_count": 6,
     "metadata": {},
     "output_type": "execute_result"
    }
   ],
   "source": [
    "# посмотрим первые 5 строк\n",
    "\n",
    "products.head()"
   ]
  }
 ],
 "metadata": {
  "kernelspec": {
   "display_name": "Python 3 (ipykernel)",
   "language": "python",
   "name": "python3"
  },
  "language_info": {
   "codemirror_mode": {
    "name": "ipython",
    "version": 3
   },
   "file_extension": ".py",
   "mimetype": "text/x-python",
   "name": "python",
   "nbconvert_exporter": "python",
   "pygments_lexer": "ipython3",
   "version": "3.9.7"
  }
 },
 "nbformat": 4,
 "nbformat_minor": 5
}
